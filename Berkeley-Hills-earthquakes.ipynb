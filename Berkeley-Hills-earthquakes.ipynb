{
 "cells": [
  {
   "cell_type": "markdown",
   "metadata": {},
   "source": [
    "# Berkeley Hills earthquakes\n",
    "\n",
    "Playing around with a dataset of earthquakes in the Berkeley Hills, for the research workflow workshop (Jupyter session), organized for the incoming graduate student cohort of the Earth and Planetary Science Department at the University of California, Berkeley."
   ]
  },
  {
   "cell_type": "markdown",
   "metadata": {},
   "source": [
    "## What is this?\n",
    "\n",
    "> The Jupyter Notebook is an open-source web application that allows you to create and share documents that contain live code, equations, visualizations and narrative text. Uses include: data cleaning and transformation, numerical simulation, statistical modeling, data visualization, machine learning, and much more.\n",
    "\n",
    "Basically, you can think of the notebook as an \"all-inclusive\" interactive document that integrates code, code output, and descriptive text. This is (almost) perfect for reproducible science!\n",
    "\n",
    "* browser-based\n",
    "* many languages supported (Python, R, Matlab... this notebook is in Python 3)\n",
    "\n",
    "The core of any notebook is built upon two types of cells: **text** and **code**.\n",
    "\n",
    "---"
   ]
  },
  {
   "cell_type": "markdown",
   "metadata": {},
   "source": [
    "This is an example of a text cell.\n",
    "\n",
    "You can write text here using Markdown syntax, and the notebook will typeset your text once you \"execute\" the cell.\n",
    "\n",
    "Some examples...\n",
    "\n",
    "#### look at me I'm a level 4 header\n",
    "\n",
    "*look at me I'm italic text*\n",
    "\n",
    "* I'm\n",
    "* a\n",
    "* list\n",
    "\n",
    "> a quote, for when you can't be bothered to come up with your own words\n",
    "\n",
    "`beep() boop.beep boop[]`\n",
    "\n",
    "$$\n",
    "\\sum\\frac{x^{2}}{y_{2}}\n",
    "$$\n",
    "\n",
    "~~why even bother showing me if you're going to cross me out anyway~~\n",
    "\n",
    "| some other stuff | and more stuff |\n",
    "|------------------|----------------|\n",
    "| $\\sigma$         | $\\frac{X}{Y}$  |\n",
    "| **bold**         | $\\Sigma$       |\n",
    "\n",
    "<font color='red'>RED TEXT</font>\n",
    "\n",
    "Refer to websites such as this to learn more about Markdown syntax: https://www.markdownguide.org/cheat-sheet/\n",
    "\n",
    "Refer to websites such as this to learn more about LaTeX syntax: https://wch.github.io/latexsheet/\n",
    "\n",
    "---"
   ]
  },
  {
   "cell_type": "markdown",
   "metadata": {},
   "source": [
    "Below is an example of a code cell:"
   ]
  },
  {
   "cell_type": "code",
   "execution_count": null,
   "metadata": {},
   "outputs": [],
   "source": [
    "x = 1\n",
    "y = 2\n",
    "\n",
    "print(x + y)"
   ]
  },
  {
   "cell_type": "markdown",
   "metadata": {},
   "source": [
    "---\n",
    "\n",
    "You can perform notebook actions using the menubar, but here are a few actions that are very common so I find it just good to know the shortcuts to speed things up:\n",
    "\n",
    "* command mode (`Esc`):\n",
    "    * `a`: create code cell above\n",
    "    * `b`: create code cell below\n",
    "    * `d, d`: delete cell\n",
    "    * `m`: convert cell into Markdown\n",
    "    * `y`: convert cell into code\n",
    "    \n",
    "* edit mode (`Enter`):\n",
    "    * `Shift + Enter`: execute cell and move one cell down\n",
    "        * creates cell below if none exists\n",
    "        \n",
    "Other shortcuts can be viewed/edited in the `Help` menu."
   ]
  },
  {
   "cell_type": "markdown",
   "metadata": {},
   "source": [
    "## Let's do something\n",
    "\n",
    "in Python. Sorry R/Matlab users."
   ]
  },
  {
   "cell_type": "markdown",
   "metadata": {},
   "source": [
    "### Importing the data\n",
    "\n",
    "The dataset we will be playing around with contains information about earthquakes in the Berkeley Hills (https://earthquake.usgs.gov/earthquakes/search/). Fortunately for us, the dataset is already cleaned up and formatted as a nice comma-separated table, so let's read it in using `pandas`.\n",
    "\n",
    "First, import standard modules:"
   ]
  },
  {
   "cell_type": "code",
   "execution_count": null,
   "metadata": {},
   "outputs": [],
   "source": [
    "# pandas deals with data tables nicely\n",
    "import pandas as pd\n",
    "\n",
    "# matplotlib deals with plotting nicely\n",
    "import matplotlib.pyplot as plt\n",
    "\n",
    "# numpy deals with matrices nicely\n",
    "import numpy as np"
   ]
  },
  {
   "cell_type": "markdown",
   "metadata": {},
   "source": [
    "Read in the file using `pandas`:"
   ]
  },
  {
   "cell_type": "code",
   "execution_count": null,
   "metadata": {},
   "outputs": [],
   "source": [
    "# read in the file\n",
    "EQ = pd.read_csv('Berkeley-Hills-earthquakes.csv')\n",
    "\n",
    "# display the top of the table to check if it was read in correctly\n",
    "EQ.head()"
   ]
  },
  {
   "cell_type": "code",
   "execution_count": null,
   "metadata": {},
   "outputs": [],
   "source": [
    "EQ['time'][0]"
   ]
  },
  {
   "cell_type": "markdown",
   "metadata": {},
   "source": [
    "`pandas` was smart enough to read in most columns correctly, but it didn't do so well with the columns that contain time information. Let's fix that:"
   ]
  },
  {
   "cell_type": "code",
   "execution_count": null,
   "metadata": {},
   "outputs": [],
   "source": [
    "# overwrite the raw columns with the correctly interpreted columns\n",
    "EQ['time'] = pd.to_datetime(EQ['time'])\n",
    "EQ['updated'] = pd.to_datetime(EQ['updated'])\n",
    "\n",
    "EQ.head()"
   ]
  },
  {
   "cell_type": "code",
   "execution_count": null,
   "metadata": {},
   "outputs": [],
   "source": [
    "EQ['time'][0]"
   ]
  },
  {
   "cell_type": "markdown",
   "metadata": {},
   "source": [
    "### Data exploration\n",
    "\n",
    "Let's get a rough sense of what we're dealing with:"
   ]
  },
  {
   "cell_type": "code",
   "execution_count": null,
   "metadata": {},
   "outputs": [],
   "source": [
    "# general information about the dataframe\n",
    "EQ.info()"
   ]
  },
  {
   "cell_type": "code",
   "execution_count": null,
   "metadata": {},
   "outputs": [],
   "source": [
    "# basic stats for the numerical columns\n",
    "EQ.describe()"
   ]
  },
  {
   "cell_type": "code",
   "execution_count": null,
   "metadata": {},
   "outputs": [],
   "source": [
    "# quick plot histograms for the numerical columns\n",
    "EQ.hist()\n",
    "\n",
    "plt.show()"
   ]
  },
  {
   "cell_type": "markdown",
   "metadata": {},
   "source": [
    "Doesn't look great... what can we do to make this look nicer?\n",
    "\n",
    "* `Shift + Tab + Tab`: show docstring\n",
    "* Google, stackoverflow, YouTube, your friends...\n",
    "\n",
    "![reddit 1](image1.jpg)\n",
    "\n",
    "![reddit 2](image2.jpg)"
   ]
  },
  {
   "cell_type": "code",
   "execution_count": null,
   "metadata": {},
   "outputs": [],
   "source": [
    "EQ.hist(figsize=(15,10))\n",
    "\n",
    "plt.show()"
   ]
  },
  {
   "cell_type": "markdown",
   "metadata": {},
   "source": [
    "### Plotting"
   ]
  },
  {
   "cell_type": "markdown",
   "metadata": {},
   "source": [
    "The quick and dirty way:"
   ]
  },
  {
   "cell_type": "code",
   "execution_count": null,
   "metadata": {},
   "outputs": [],
   "source": [
    "# make the histogram\n",
    "plt.hist(EQ['depth'])\n",
    "\n",
    "# set the x and y labels\n",
    "plt.xlabel('depth (km)')\n",
    "plt.ylabel('n')\n",
    "\n",
    "# show it\n",
    "plt.show()"
   ]
  },
  {
   "cell_type": "markdown",
   "metadata": {},
   "source": [
    "A far, far, far, superior way for the more intelligent among you:\n",
    "\n",
    "(just kidding - the above way is fine)"
   ]
  },
  {
   "cell_type": "code",
   "execution_count": null,
   "metadata": {},
   "outputs": [],
   "source": [
    "# set up the figure and axis handles\n",
    "fig, ax = plt.subplots()\n",
    "\n",
    "# make the histogram on the axis\n",
    "ax.hist(EQ['depth'])\n",
    "\n",
    "# x and y labels\n",
    "ax.set_xlabel('depth (km)')\n",
    "ax.set_ylabel('n')\n",
    "\n",
    "# show it\n",
    "plt.show(fig)"
   ]
  },
  {
   "cell_type": "markdown",
   "metadata": {},
   "source": [
    "* more control\n",
    "* less ambiguity\n",
    "* more reproducible\n",
    "* not(/less) sensitive to the order that you type things"
   ]
  },
  {
   "cell_type": "code",
   "execution_count": null,
   "metadata": {},
   "outputs": [],
   "source": [
    "# set up the figure and axis handles\n",
    "fig, ax = plt.subplots()\n",
    "\n",
    "# make the histogram on the axis\n",
    "ax.scatter(EQ['depth'], EQ['mag'])\n",
    "\n",
    "# x and y labels\n",
    "ax.set_xlabel('depth (km)')\n",
    "ax.set_ylabel('magnitude')\n",
    "\n",
    "# show it\n",
    "plt.show(fig)"
   ]
  },
  {
   "cell_type": "markdown",
   "metadata": {},
   "source": [
    "An example of getting a little fancy:"
   ]
  },
  {
   "cell_type": "code",
   "execution_count": null,
   "metadata": {},
   "outputs": [],
   "source": [
    "# set up the figure and axis handles\n",
    "fig, ax = plt.subplots(nrows=1, ncols=3, figsize=(15,5))\n",
    "\n",
    "# make the basic plots\n",
    "ax[0].hist(EQ['longitude'], color='C0')\n",
    "ax[1].hist(EQ['latitude'], color='C1')\n",
    "ax[2].scatter(EQ['longitude'], EQ['latitude'], c='C2')\n",
    "\n",
    "# make the y-axis the same for the two histograms\n",
    "hist_ylim_max = 120\n",
    "ax[0].set_ylim(0, hist_ylim_max)\n",
    "ax[1].set_ylim(0, hist_ylim_max)\n",
    "\n",
    "# set axis labels\n",
    "ax[0].set_xlabel('longitude')\n",
    "ax[1].set_xlabel('latitude')\n",
    "ax[2].set_xlabel('longitude')\n",
    "\n",
    "# rotate x tick labels\n",
    "for i in range(len(ax)):\n",
    "    plt.setp(ax[i].get_xticklabels(), rotation=45)\n",
    "    \n",
    "# move the yaxis labels to the right for the scatter plot\n",
    "ax[2].yaxis.tick_right()\n",
    "ax[2].yaxis.set_label_position('right')\n",
    "ax[2].set_ylabel('latitude', rotation=270, labelpad=20)\n",
    "\n",
    "# label them\n",
    "panel_labels = ['A', 'B', 'C']\n",
    "for i in range(len(ax)):\n",
    "    ax[i].text(0.95, 0.95, panel_labels[i],\n",
    "               horizontalalignment='center', verticalalignment='center', transform=ax[i].transAxes)\n",
    "\n",
    "plt.show(fig)"
   ]
  },
  {
   "cell_type": "markdown",
   "metadata": {},
   "source": [
    "Isn't panel C a map?\n",
    "\n",
    "Let's actually plot the data on a map. To do so, we'll use `cartopy`. To install this package:\n",
    "\n",
    "```\n",
    "conda install cartopy\n",
    "```\n",
    "\n",
    "or \n",
    "\n",
    "```\n",
    "conda install -c conda-forge cartopy\n",
    "```"
   ]
  },
  {
   "cell_type": "code",
   "execution_count": null,
   "metadata": {},
   "outputs": [],
   "source": [
    "import cartopy.crs as ccrs"
   ]
  },
  {
   "cell_type": "markdown",
   "metadata": {},
   "source": [
    "First, a global map:"
   ]
  },
  {
   "cell_type": "code",
   "execution_count": null,
   "metadata": {},
   "outputs": [],
   "source": [
    "# set up the figure handle\n",
    "fig = plt.figure(figsize=(15,6))\n",
    "\n",
    "# add a Robinson projection axis to the figure\n",
    "ax = plt.subplot(1,1,1, projection=ccrs.Robinson())\n",
    "\n",
    "# draw the stock image\n",
    "ax.stock_img()\n",
    "\n",
    "# draw the coastlines\n",
    "ax.coastlines()\n",
    "\n",
    "# plot a point where Berkeley is\n",
    "ax.scatter([-122.2730], [37.8715], s=100, c='C1', transform=ccrs.PlateCarree(), zorder=100)\n",
    "\n",
    "plt.show()"
   ]
  },
  {
   "cell_type": "markdown",
   "metadata": {},
   "source": [
    "Now zoom in to the area of interest, and plot the earthquake locations:"
   ]
  },
  {
   "cell_type": "code",
   "execution_count": null,
   "metadata": {},
   "outputs": [],
   "source": [
    "# this function allows us to use other stock images\n",
    "from cartopy.io import img_tiles"
   ]
  },
  {
   "cell_type": "code",
   "execution_count": null,
   "metadata": {},
   "outputs": [],
   "source": [
    "# set up the figure handle\n",
    "fig = plt.figure(figsize=(10,10))\n",
    "\n",
    "# get the stock image\n",
    "terrain = img_tiles.Stamen('terrain-background')\n",
    "\n",
    "# add an axis to the figure, using the projection of the stock image\n",
    "ax = plt.subplot(1,1,1, projection=terrain.crs)\n",
    "\n",
    "# draw the stock image, at level 12 resolution\n",
    "ax.add_image(terrain, 12)\n",
    "\n",
    "# plot the earthquakes\n",
    "ax.scatter(EQ['longitude'], EQ['latitude'], c='C1', s=10, transform=ccrs.Geodetic(), zorder=100)\n",
    "\n",
    "# zoom to the area of interest\n",
    "ax.set_extent([-122.35, -122.05, 37.750, 37.950], crs=ccrs.Geodetic())\n",
    "\n",
    "# draw grid lines\n",
    "ax.gridlines(crs=ccrs.PlateCarree(), draw_labels=True,\n",
    "             color='gray', alpha=0.5, linestyle='--')\n",
    "\n",
    "plt.show()"
   ]
  },
  {
   "cell_type": "markdown",
   "metadata": {},
   "source": [
    "### Restart and Run All\n",
    "\n",
    "While developing code in the notebook, it is not uncommon to move code around, change variable names, paths to files, etc. This may unintentionally lead to a notebook that does not execute from start to finish (which defeats a large part of why these notebooks exist). It is therefore good practice to \"Restart & Run All\" to make sure your notebook actually executes."
   ]
  },
  {
   "cell_type": "markdown",
   "metadata": {},
   "source": [
    "## Other useful Jupyter things\n",
    "\n",
    "* find and replace\n",
    "    * `Edit` > `Find and Replace`\n",
    "* table of contents\n",
    "    * Jupyter notebook extensions: https://jupyter-contrib-nbextensions.readthedocs.io/en/latest/\n",
    "```\n",
    "conda install -c conda-forge jupyter_contrib_nbextensions\n",
    "```\n",
    "* progress bar\n",
    "    * https://tqdm.github.io\n",
    "* widgets\n",
    "* other languages:\n",
    "    * Python 2: https://docs.anaconda.com/anaconda/user-guide/tasks/switch-environment/\n",
    "    * Matlab: https://am111.readthedocs.io/en/latest/jmatlab_install.html\n",
    "    * R: https://docs.anaconda.com/anaconda/navigator/tutorials/r-lang/\n",
    "* sharing:\n",
    "    * as a static document:\n",
    "        * `File` > `Download as`\n",
    "        * https://nbviewer.jupyter.org\n",
    "    * version-controlled sharing:\n",
    "        * GitHub (learn more next week)\n",
    "* Jupyter lab\n",
    "    * instead of typing `jupyter notebook` in your terminal/command prompt, type `jupyter lab` instead"
   ]
  },
  {
   "cell_type": "markdown",
   "metadata": {},
   "source": [
    "`tqdm`:"
   ]
  },
  {
   "cell_type": "code",
   "execution_count": null,
   "metadata": {},
   "outputs": [],
   "source": [
    "# import the required modules\n",
    "from tqdm import tqdm_notebook\n",
    "from time import sleep"
   ]
  },
  {
   "cell_type": "code",
   "execution_count": null,
   "metadata": {},
   "outputs": [],
   "source": [
    "# a simple nested for loop... but who knows how long we'll be waiting for?\n",
    "for i in range(10):\n",
    "    for j in range(100):\n",
    "        sleep(0.01)"
   ]
  },
  {
   "cell_type": "code",
   "execution_count": null,
   "metadata": {},
   "outputs": [],
   "source": [
    "# the same nested for loop, but now with a progress bar\n",
    "for i in tqdm_notebook(range(10), desc='1st loop'):\n",
    "    for j in tqdm_notebook(range(100), desc='2nd loop', leave=False):\n",
    "        sleep(0.01)"
   ]
  },
  {
   "cell_type": "markdown",
   "metadata": {},
   "source": [
    "`widgets`:"
   ]
  },
  {
   "cell_type": "code",
   "execution_count": null,
   "metadata": {},
   "outputs": [],
   "source": [
    "# import the widgets module\n",
    "import ipywidgets as widgets\n",
    "\n",
    "# use the \"magic\" to set the values for the interactive variables\n",
    "@widgets.interact(frequency=(-5.,5.), color=['blue', 'red', 'green'], lineweight=(1., 10.))\n",
    "\n",
    "# define a function that will create the plot, using parameters that you want to be interactive\n",
    "def widget_plot(frequency=1., color='blue', lineweight=2., grid=True):\n",
    "    \"\"\"\n",
    "    Plot an interactive sin plot using ipywidgets.\n",
    "    \n",
    "    Parameters\n",
    "    ----------\n",
    "    frequency : float, optional\n",
    "        Frequency of sin wave.\n",
    "        \n",
    "    color : string, optional\n",
    "        Color of curve - must be 'blue', 'red', or 'green'.\n",
    "        \n",
    "    lineweight : float, optional\n",
    "        Weight of curve.\n",
    "        \n",
    "    grid : boolean, optional\n",
    "        If True, plot grid.\n",
    "    \"\"\"\n",
    "    # set up the x-array\n",
    "    x = np.linspace(-1., +1., 100)\n",
    "    \n",
    "    # set up the figure\n",
    "    fig, ax = plt.subplots(1, 1, figsize=(8, 6))\n",
    "    \n",
    "    # calculate y\n",
    "    y = np.sin(2 * np.pi * frequency * x)\n",
    "    \n",
    "    # plot\n",
    "    ax.plot(x, y, lw=lineweight, color=color)\n",
    "    ax.grid(grid)"
   ]
  },
  {
   "cell_type": "markdown",
   "metadata": {},
   "source": [
    "Note that, if formatted properly, your docstring will automatically be recognized as such:"
   ]
  },
  {
   "cell_type": "raw",
   "metadata": {},
   "source": [
    "widget_plot()"
   ]
  },
  {
   "cell_type": "markdown",
   "metadata": {},
   "source": [
    "## Other useful non-Jupyter things\n",
    "\n",
    "* Atom\n",
    "    * a text editor\n",
    "    * https://atom.io\n",
    "* Lepton\n",
    "    * a code snippet manager\n",
    "    * http://hackjutsu.com/Lepton/"
   ]
  }
 ],
 "metadata": {
  "kernelspec": {
   "display_name": "Python 3",
   "language": "python",
   "name": "python3"
  },
  "language_info": {
   "codemirror_mode": {
    "name": "ipython",
    "version": 3
   },
   "file_extension": ".py",
   "mimetype": "text/x-python",
   "name": "python",
   "nbconvert_exporter": "python",
   "pygments_lexer": "ipython3",
   "version": "3.7.4"
  },
  "toc": {
   "base_numbering": 1,
   "nav_menu": {},
   "number_sections": false,
   "sideBar": true,
   "skip_h1_title": false,
   "title_cell": "Table of Contents",
   "title_sidebar": "Contents",
   "toc_cell": false,
   "toc_position": {
    "height": "calc(100% - 180px)",
    "left": "10px",
    "top": "150px",
    "width": "290px"
   },
   "toc_section_display": true,
   "toc_window_display": false
  }
 },
 "nbformat": 4,
 "nbformat_minor": 2
}
