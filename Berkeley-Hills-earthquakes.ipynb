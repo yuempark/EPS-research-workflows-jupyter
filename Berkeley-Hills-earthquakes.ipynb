{
 "cells": [
  {
   "cell_type": "markdown",
   "metadata": {},
   "source": [
    "# Berkeley Hills earthquakes\n",
    "\n",
    "Playing around with a dataset of earthquakes in the Berkeley Hills, for the research workflow workshop (Jupyter session), organized for the incoming graduate student cohort of the Earth and Planetary Science Department at the University of California, Berkeley."
   ]
  },
  {
   "cell_type": "markdown",
   "metadata": {},
   "source": [
    "## First, what am I looking at?\n",
    "\n",
    "> The Jupyter Notebook is an open-source web application that allows you to create and share documents that contain live code, equations, visualizations and narrative text. Uses include: data cleaning and transformation, numerical simulation, statistical modeling, data visualization, machine learning, and much more.\n",
    "\n",
    "Basically, you can think of the notebook as an \"all-inclusive\" interactive document that integrates code, code output, and descriptive text. This is (almost) perfect for reproducible science!\n",
    "\n",
    "* browser-based\n",
    "* many languages supported (Python, R, Matlab...)\n",
    "\n",
    "The core of any notebook is built upon two types of cells: **text** and **code**.\n",
    "\n",
    "---"
   ]
  },
  {
   "cell_type": "markdown",
   "metadata": {},
   "source": [
    "This is an example of a text cell.\n",
    "\n",
    "You can write text here using Markdown syntax, and the notebook will typeset your text once you \"execute\" the cell.\n",
    "\n",
    "Some examples...\n",
    "\n",
    "#### look at me I'm a level 4 header\n",
    "\n",
    "*look at me I'm italic text*\n",
    "\n",
    "* I'm\n",
    "* a\n",
    "* list\n",
    "\n",
    "> a quote, for when you can't be bothered to come up with your own words\n",
    "\n",
    "`beep() boop.beep boop[]`\n",
    "\n",
    "$$\n",
    "\\sum\\frac{x^{2}}{y_{2}}\n",
    "$$\n",
    "\n",
    "~~why even bother showing me if you're going to cross me out anyway~~\n",
    "\n",
    "| some other stuff | and more stuff |\n",
    "|------------------|----------------|\n",
    "| $\\sigma$         | $\\frac{X}{Y}$  |\n",
    "| **bold**         | $\\Sigma$       |\n",
    "\n",
    "Refer to websites such as this to learn more about Markdown syntax: https://www.markdownguide.org/cheat-sheet/\n",
    "\n",
    "Refer to websites such as this to learn more about LaTeX syntax: https://wch.github.io/latexsheet/\n",
    "\n",
    "---"
   ]
  },
  {
   "cell_type": "markdown",
   "metadata": {},
   "source": [
    "Below is an example of a code cell:"
   ]
  },
  {
   "cell_type": "code",
   "execution_count": 1,
   "metadata": {},
   "outputs": [],
   "source": [
    "x = 1\n",
    "y = 2\n",
    "\n",
    "print(x + y)"
   ]
  },
  {
   "cell_type": "markdown",
   "metadata": {},
   "source": [
    "---\n",
    "\n",
    "You can perform notebook actions using the menubar, but here are a few actions that are very common so I find it just good to know the shortcuts to speed things up:\n",
    "\n",
    "* command mode (`Esc`):\n",
    "    * `a`: create code cell above\n",
    "    * `b`: create code cell below\n",
    "    * `d, d`: delete cell\n",
    "    * `m`: convert cell into Markdown\n",
    "    * `y`: convert cell code\n",
    "    \n",
    "* edit mode (`Enter`):\n",
    "    * `Shift + Enter`: execute cell and move one cell down\n",
    "        * creates cell below if none exists\n",
    "        \n",
    "Other shortcuts can be viewed/edited in the `Help` menu."
   ]
  },
  {
   "cell_type": "markdown",
   "metadata": {},
   "source": [
    "## Let's do something\n",
    "\n",
    "in Python. Sorry R/Matlab users."
   ]
  },
  {
   "cell_type": "markdown",
   "metadata": {},
   "source": [
    "### Importing the data\n",
    "\n",
    "The dataset we will be playing around with contains information about earthquakes in the Berkeley Hills (https://earthquake.usgs.gov/earthquakes/search/). Fortunately for us, the dataset is already cleaned up and formatted as a nice comma-separated table, so let's read it in using `pandas`:"
   ]
  },
  {
   "cell_type": "code",
   "execution_count": 2,
   "metadata": {},
   "outputs": [],
   "source": [
    "# import the module/package that we need\n",
    "import pandas as pd"
   ]
  },
  {
   "cell_type": "code",
   "execution_count": 3,
   "metadata": {},
   "outputs": [
    {
     "data": {
      "text/html": [
       "<div>\n",
       "<style scoped>\n",
       "    .dataframe tbody tr th:only-of-type {\n",
       "        vertical-align: middle;\n",
       "    }\n",
       "\n",
       "    .dataframe tbody tr th {\n",
       "        vertical-align: top;\n",
       "    }\n",
       "\n",
       "    .dataframe thead th {\n",
       "        text-align: right;\n",
       "    }\n",
       "</style>\n",
       "<table border=\"1\" class=\"dataframe\">\n",
       "  <thead>\n",
       "    <tr style=\"text-align: right;\">\n",
       "      <th></th>\n",
       "      <th>time</th>\n",
       "      <th>latitude</th>\n",
       "      <th>longitude</th>\n",
       "      <th>depth</th>\n",
       "      <th>mag</th>\n",
       "      <th>magType</th>\n",
       "      <th>nst</th>\n",
       "      <th>gap</th>\n",
       "      <th>dmin</th>\n",
       "      <th>rms</th>\n",
       "      <th>net</th>\n",
       "      <th>id</th>\n",
       "      <th>updated</th>\n",
       "      <th>place</th>\n",
       "      <th>type</th>\n",
       "    </tr>\n",
       "  </thead>\n",
       "  <tbody>\n",
       "    <tr>\n",
       "      <td>0</td>\n",
       "      <td>2014-09-22T09:26:07.640Z</td>\n",
       "      <td>37.879833</td>\n",
       "      <td>-122.232000</td>\n",
       "      <td>8.57</td>\n",
       "      <td>0.87</td>\n",
       "      <td>md</td>\n",
       "      <td>25.0</td>\n",
       "      <td>52.0</td>\n",
       "      <td>0.004587</td>\n",
       "      <td>0.05</td>\n",
       "      <td>nc</td>\n",
       "      <td>nc72303571</td>\n",
       "      <td>2014-09-23T22:28:37.410Z</td>\n",
       "      <td>3km ENE of Berkeley, California</td>\n",
       "      <td>earthquake</td>\n",
       "    </tr>\n",
       "    <tr>\n",
       "      <td>1</td>\n",
       "      <td>2014-09-21T05:18:51.600Z</td>\n",
       "      <td>37.865000</td>\n",
       "      <td>-122.248167</td>\n",
       "      <td>9.94</td>\n",
       "      <td>0.83</td>\n",
       "      <td>md</td>\n",
       "      <td>19.0</td>\n",
       "      <td>85.0</td>\n",
       "      <td>0.010660</td>\n",
       "      <td>0.03</td>\n",
       "      <td>nc</td>\n",
       "      <td>nc72302966</td>\n",
       "      <td>2014-09-24T01:52:03.888Z</td>\n",
       "      <td>2km ESE of Berkeley, California</td>\n",
       "      <td>earthquake</td>\n",
       "    </tr>\n",
       "    <tr>\n",
       "      <td>2</td>\n",
       "      <td>2014-09-12T13:51:34.500Z</td>\n",
       "      <td>37.903000</td>\n",
       "      <td>-122.207167</td>\n",
       "      <td>5.36</td>\n",
       "      <td>0.60</td>\n",
       "      <td>md</td>\n",
       "      <td>12.0</td>\n",
       "      <td>74.0</td>\n",
       "      <td>0.022830</td>\n",
       "      <td>0.06</td>\n",
       "      <td>nc</td>\n",
       "      <td>nc72297316</td>\n",
       "      <td>2014-09-19T03:25:01.260Z</td>\n",
       "      <td>3km NW of Orinda, California</td>\n",
       "      <td>earthquake</td>\n",
       "    </tr>\n",
       "    <tr>\n",
       "      <td>3</td>\n",
       "      <td>2014-09-11T23:02:55.600Z</td>\n",
       "      <td>37.898500</td>\n",
       "      <td>-122.202800</td>\n",
       "      <td>5.20</td>\n",
       "      <td>0.60</td>\n",
       "      <td>Md</td>\n",
       "      <td>9.0</td>\n",
       "      <td>111.6</td>\n",
       "      <td>0.017966</td>\n",
       "      <td>0.06</td>\n",
       "      <td>nc</td>\n",
       "      <td>nc72296911</td>\n",
       "      <td>2014-09-17T06:20:04.903Z</td>\n",
       "      <td>3km NW of Orinda, California</td>\n",
       "      <td>earthquake</td>\n",
       "    </tr>\n",
       "    <tr>\n",
       "      <td>4</td>\n",
       "      <td>2014-09-11T01:00:40.000Z</td>\n",
       "      <td>37.902700</td>\n",
       "      <td>-122.204800</td>\n",
       "      <td>4.90</td>\n",
       "      <td>0.50</td>\n",
       "      <td>Md</td>\n",
       "      <td>11.0</td>\n",
       "      <td>75.6</td>\n",
       "      <td>0.026949</td>\n",
       "      <td>0.06</td>\n",
       "      <td>nc</td>\n",
       "      <td>nc72296146</td>\n",
       "      <td>2014-09-17T00:03:56.508Z</td>\n",
       "      <td>3km NW of Orinda, California</td>\n",
       "      <td>earthquake</td>\n",
       "    </tr>\n",
       "  </tbody>\n",
       "</table>\n",
       "</div>"
      ],
      "text/plain": [
       "                       time   latitude   longitude  depth   mag magType   nst  \\\n",
       "0  2014-09-22T09:26:07.640Z  37.879833 -122.232000   8.57  0.87      md  25.0   \n",
       "1  2014-09-21T05:18:51.600Z  37.865000 -122.248167   9.94  0.83      md  19.0   \n",
       "2  2014-09-12T13:51:34.500Z  37.903000 -122.207167   5.36  0.60      md  12.0   \n",
       "3  2014-09-11T23:02:55.600Z  37.898500 -122.202800   5.20  0.60      Md   9.0   \n",
       "4  2014-09-11T01:00:40.000Z  37.902700 -122.204800   4.90  0.50      Md  11.0   \n",
       "\n",
       "     gap      dmin   rms net          id                   updated  \\\n",
       "0   52.0  0.004587  0.05  nc  nc72303571  2014-09-23T22:28:37.410Z   \n",
       "1   85.0  0.010660  0.03  nc  nc72302966  2014-09-24T01:52:03.888Z   \n",
       "2   74.0  0.022830  0.06  nc  nc72297316  2014-09-19T03:25:01.260Z   \n",
       "3  111.6  0.017966  0.06  nc  nc72296911  2014-09-17T06:20:04.903Z   \n",
       "4   75.6  0.026949  0.06  nc  nc72296146  2014-09-17T00:03:56.508Z   \n",
       "\n",
       "                             place        type  \n",
       "0  3km ENE of Berkeley, California  earthquake  \n",
       "1  2km ESE of Berkeley, California  earthquake  \n",
       "2     3km NW of Orinda, California  earthquake  \n",
       "3     3km NW of Orinda, California  earthquake  \n",
       "4     3km NW of Orinda, California  earthquake  "
      ]
     },
     "execution_count": 3,
     "metadata": {},
     "output_type": "execute_result"
    }
   ],
   "source": [
    "# read in the file\n",
    "EQ = pd.read_csv('Berkeley-Hills-earthquakes.csv')\n",
    "\n",
    "# display the table to check if it was read in correctly\n",
    "EQ.head()"
   ]
  },
  {
   "cell_type": "markdown",
   "metadata": {},
   "source": [
    "`pandas` was smart enough to read in most columns correctly, but it didn't do so well with the columns that contain time information. Let's fix that:"
   ]
  },
  {
   "cell_type": "code",
   "execution_count": 4,
   "metadata": {},
   "outputs": [
    {
     "data": {
      "text/html": [
       "<div>\n",
       "<style scoped>\n",
       "    .dataframe tbody tr th:only-of-type {\n",
       "        vertical-align: middle;\n",
       "    }\n",
       "\n",
       "    .dataframe tbody tr th {\n",
       "        vertical-align: top;\n",
       "    }\n",
       "\n",
       "    .dataframe thead th {\n",
       "        text-align: right;\n",
       "    }\n",
       "</style>\n",
       "<table border=\"1\" class=\"dataframe\">\n",
       "  <thead>\n",
       "    <tr style=\"text-align: right;\">\n",
       "      <th></th>\n",
       "      <th>time</th>\n",
       "      <th>latitude</th>\n",
       "      <th>longitude</th>\n",
       "      <th>depth</th>\n",
       "      <th>mag</th>\n",
       "      <th>magType</th>\n",
       "      <th>nst</th>\n",
       "      <th>gap</th>\n",
       "      <th>dmin</th>\n",
       "      <th>rms</th>\n",
       "      <th>net</th>\n",
       "      <th>id</th>\n",
       "      <th>updated</th>\n",
       "      <th>place</th>\n",
       "      <th>type</th>\n",
       "    </tr>\n",
       "  </thead>\n",
       "  <tbody>\n",
       "    <tr>\n",
       "      <td>0</td>\n",
       "      <td>2014-09-22 09:26:07.640000+00:00</td>\n",
       "      <td>37.879833</td>\n",
       "      <td>-122.232000</td>\n",
       "      <td>8.57</td>\n",
       "      <td>0.87</td>\n",
       "      <td>md</td>\n",
       "      <td>25.0</td>\n",
       "      <td>52.0</td>\n",
       "      <td>0.004587</td>\n",
       "      <td>0.05</td>\n",
       "      <td>nc</td>\n",
       "      <td>nc72303571</td>\n",
       "      <td>2014-09-23 22:28:37.410000+00:00</td>\n",
       "      <td>3km ENE of Berkeley, California</td>\n",
       "      <td>earthquake</td>\n",
       "    </tr>\n",
       "    <tr>\n",
       "      <td>1</td>\n",
       "      <td>2014-09-21 05:18:51.600000+00:00</td>\n",
       "      <td>37.865000</td>\n",
       "      <td>-122.248167</td>\n",
       "      <td>9.94</td>\n",
       "      <td>0.83</td>\n",
       "      <td>md</td>\n",
       "      <td>19.0</td>\n",
       "      <td>85.0</td>\n",
       "      <td>0.010660</td>\n",
       "      <td>0.03</td>\n",
       "      <td>nc</td>\n",
       "      <td>nc72302966</td>\n",
       "      <td>2014-09-24 01:52:03.888000+00:00</td>\n",
       "      <td>2km ESE of Berkeley, California</td>\n",
       "      <td>earthquake</td>\n",
       "    </tr>\n",
       "    <tr>\n",
       "      <td>2</td>\n",
       "      <td>2014-09-12 13:51:34.500000+00:00</td>\n",
       "      <td>37.903000</td>\n",
       "      <td>-122.207167</td>\n",
       "      <td>5.36</td>\n",
       "      <td>0.60</td>\n",
       "      <td>md</td>\n",
       "      <td>12.0</td>\n",
       "      <td>74.0</td>\n",
       "      <td>0.022830</td>\n",
       "      <td>0.06</td>\n",
       "      <td>nc</td>\n",
       "      <td>nc72297316</td>\n",
       "      <td>2014-09-19 03:25:01.260000+00:00</td>\n",
       "      <td>3km NW of Orinda, California</td>\n",
       "      <td>earthquake</td>\n",
       "    </tr>\n",
       "    <tr>\n",
       "      <td>3</td>\n",
       "      <td>2014-09-11 23:02:55.600000+00:00</td>\n",
       "      <td>37.898500</td>\n",
       "      <td>-122.202800</td>\n",
       "      <td>5.20</td>\n",
       "      <td>0.60</td>\n",
       "      <td>Md</td>\n",
       "      <td>9.0</td>\n",
       "      <td>111.6</td>\n",
       "      <td>0.017966</td>\n",
       "      <td>0.06</td>\n",
       "      <td>nc</td>\n",
       "      <td>nc72296911</td>\n",
       "      <td>2014-09-17 06:20:04.903000+00:00</td>\n",
       "      <td>3km NW of Orinda, California</td>\n",
       "      <td>earthquake</td>\n",
       "    </tr>\n",
       "    <tr>\n",
       "      <td>4</td>\n",
       "      <td>2014-09-11 01:00:40+00:00</td>\n",
       "      <td>37.902700</td>\n",
       "      <td>-122.204800</td>\n",
       "      <td>4.90</td>\n",
       "      <td>0.50</td>\n",
       "      <td>Md</td>\n",
       "      <td>11.0</td>\n",
       "      <td>75.6</td>\n",
       "      <td>0.026949</td>\n",
       "      <td>0.06</td>\n",
       "      <td>nc</td>\n",
       "      <td>nc72296146</td>\n",
       "      <td>2014-09-17 00:03:56.508000+00:00</td>\n",
       "      <td>3km NW of Orinda, California</td>\n",
       "      <td>earthquake</td>\n",
       "    </tr>\n",
       "  </tbody>\n",
       "</table>\n",
       "</div>"
      ],
      "text/plain": [
       "                              time   latitude   longitude  depth   mag  \\\n",
       "0 2014-09-22 09:26:07.640000+00:00  37.879833 -122.232000   8.57  0.87   \n",
       "1 2014-09-21 05:18:51.600000+00:00  37.865000 -122.248167   9.94  0.83   \n",
       "2 2014-09-12 13:51:34.500000+00:00  37.903000 -122.207167   5.36  0.60   \n",
       "3 2014-09-11 23:02:55.600000+00:00  37.898500 -122.202800   5.20  0.60   \n",
       "4        2014-09-11 01:00:40+00:00  37.902700 -122.204800   4.90  0.50   \n",
       "\n",
       "  magType   nst    gap      dmin   rms net          id  \\\n",
       "0      md  25.0   52.0  0.004587  0.05  nc  nc72303571   \n",
       "1      md  19.0   85.0  0.010660  0.03  nc  nc72302966   \n",
       "2      md  12.0   74.0  0.022830  0.06  nc  nc72297316   \n",
       "3      Md   9.0  111.6  0.017966  0.06  nc  nc72296911   \n",
       "4      Md  11.0   75.6  0.026949  0.06  nc  nc72296146   \n",
       "\n",
       "                           updated                            place  \\\n",
       "0 2014-09-23 22:28:37.410000+00:00  3km ENE of Berkeley, California   \n",
       "1 2014-09-24 01:52:03.888000+00:00  2km ESE of Berkeley, California   \n",
       "2 2014-09-19 03:25:01.260000+00:00     3km NW of Orinda, California   \n",
       "3 2014-09-17 06:20:04.903000+00:00     3km NW of Orinda, California   \n",
       "4 2014-09-17 00:03:56.508000+00:00     3km NW of Orinda, California   \n",
       "\n",
       "         type  \n",
       "0  earthquake  \n",
       "1  earthquake  \n",
       "2  earthquake  \n",
       "3  earthquake  \n",
       "4  earthquake  "
      ]
     },
     "execution_count": 4,
     "metadata": {},
     "output_type": "execute_result"
    }
   ],
   "source": [
    "# over-write the columns with the correctly interpreted columns\n",
    "EQ['time'] = pd.to_datetime(EQ['time'])\n",
    "EQ['updated'] = pd.to_datetime(EQ['updated'])\n",
    "\n",
    "EQ.head()"
   ]
  },
  {
   "cell_type": "markdown",
   "metadata": {},
   "source": [
    "### Data exploration\n",
    "\n",
    "Let's get a rough sense of what we're dealing with:"
   ]
  },
  {
   "cell_type": "code",
   "execution_count": 5,
   "metadata": {},
   "outputs": [
    {
     "name": "stdout",
     "output_type": "stream",
     "text": [
      "<class 'pandas.core.frame.DataFrame'>\n",
      "RangeIndex: 325 entries, 0 to 324\n",
      "Data columns (total 15 columns):\n",
      "time         325 non-null datetime64[ns, UTC]\n",
      "latitude     325 non-null float64\n",
      "longitude    325 non-null float64\n",
      "depth        325 non-null float64\n",
      "mag          325 non-null float64\n",
      "magType      323 non-null object\n",
      "nst          132 non-null float64\n",
      "gap          253 non-null float64\n",
      "dmin         169 non-null float64\n",
      "rms          171 non-null float64\n",
      "net          325 non-null object\n",
      "id           325 non-null object\n",
      "updated      325 non-null datetime64[ns, UTC]\n",
      "place        325 non-null object\n",
      "type         325 non-null object\n",
      "dtypes: datetime64[ns, UTC](2), float64(8), object(5)\n",
      "memory usage: 38.2+ KB\n"
     ]
    }
   ],
   "source": [
    "# general information about the dataframe\n",
    "EQ.info()"
   ]
  },
  {
   "cell_type": "code",
   "execution_count": 6,
   "metadata": {},
   "outputs": [
    {
     "data": {
      "text/html": [
       "<div>\n",
       "<style scoped>\n",
       "    .dataframe tbody tr th:only-of-type {\n",
       "        vertical-align: middle;\n",
       "    }\n",
       "\n",
       "    .dataframe tbody tr th {\n",
       "        vertical-align: top;\n",
       "    }\n",
       "\n",
       "    .dataframe thead th {\n",
       "        text-align: right;\n",
       "    }\n",
       "</style>\n",
       "<table border=\"1\" class=\"dataframe\">\n",
       "  <thead>\n",
       "    <tr style=\"text-align: right;\">\n",
       "      <th></th>\n",
       "      <th>latitude</th>\n",
       "      <th>longitude</th>\n",
       "      <th>depth</th>\n",
       "      <th>mag</th>\n",
       "      <th>nst</th>\n",
       "      <th>gap</th>\n",
       "      <th>dmin</th>\n",
       "      <th>rms</th>\n",
       "    </tr>\n",
       "  </thead>\n",
       "  <tbody>\n",
       "    <tr>\n",
       "      <td>count</td>\n",
       "      <td>325.000000</td>\n",
       "      <td>325.000000</td>\n",
       "      <td>325.000000</td>\n",
       "      <td>325.000000</td>\n",
       "      <td>132.000000</td>\n",
       "      <td>253.000000</td>\n",
       "      <td>169.000000</td>\n",
       "      <td>171.000000</td>\n",
       "    </tr>\n",
       "    <tr>\n",
       "      <td>mean</td>\n",
       "      <td>37.872797</td>\n",
       "      <td>-122.233251</td>\n",
       "      <td>7.608185</td>\n",
       "      <td>1.927077</td>\n",
       "      <td>25.045455</td>\n",
       "      <td>81.954545</td>\n",
       "      <td>0.014857</td>\n",
       "      <td>0.091813</td>\n",
       "    </tr>\n",
       "    <tr>\n",
       "      <td>std</td>\n",
       "      <td>0.035196</td>\n",
       "      <td>0.042846</td>\n",
       "      <td>2.395682</td>\n",
       "      <td>1.019863</td>\n",
       "      <td>26.172902</td>\n",
       "      <td>44.787405</td>\n",
       "      <td>0.013212</td>\n",
       "      <td>0.079430</td>\n",
       "    </tr>\n",
       "    <tr>\n",
       "      <td>min</td>\n",
       "      <td>37.780000</td>\n",
       "      <td>-122.325000</td>\n",
       "      <td>0.000000</td>\n",
       "      <td>0.000000</td>\n",
       "      <td>3.000000</td>\n",
       "      <td>14.400000</td>\n",
       "      <td>0.000000</td>\n",
       "      <td>0.020000</td>\n",
       "    </tr>\n",
       "    <tr>\n",
       "      <td>25%</td>\n",
       "      <td>37.856000</td>\n",
       "      <td>-122.251800</td>\n",
       "      <td>6.000000</td>\n",
       "      <td>0.900000</td>\n",
       "      <td>7.000000</td>\n",
       "      <td>50.400000</td>\n",
       "      <td>0.008983</td>\n",
       "      <td>0.060000</td>\n",
       "    </tr>\n",
       "    <tr>\n",
       "      <td>50%</td>\n",
       "      <td>37.877000</td>\n",
       "      <td>-122.232000</td>\n",
       "      <td>7.700000</td>\n",
       "      <td>2.000000</td>\n",
       "      <td>14.000000</td>\n",
       "      <td>68.400000</td>\n",
       "      <td>0.008983</td>\n",
       "      <td>0.080000</td>\n",
       "    </tr>\n",
       "    <tr>\n",
       "      <td>75%</td>\n",
       "      <td>37.894000</td>\n",
       "      <td>-122.214667</td>\n",
       "      <td>9.100000</td>\n",
       "      <td>2.700000</td>\n",
       "      <td>33.250000</td>\n",
       "      <td>111.600000</td>\n",
       "      <td>0.026949</td>\n",
       "      <td>0.110000</td>\n",
       "    </tr>\n",
       "    <tr>\n",
       "      <td>max</td>\n",
       "      <td>37.936800</td>\n",
       "      <td>-122.081000</td>\n",
       "      <td>16.200000</td>\n",
       "      <td>4.800000</td>\n",
       "      <td>120.000000</td>\n",
       "      <td>294.000000</td>\n",
       "      <td>0.062882</td>\n",
       "      <td>0.800000</td>\n",
       "    </tr>\n",
       "  </tbody>\n",
       "</table>\n",
       "</div>"
      ],
      "text/plain": [
       "         latitude   longitude       depth         mag         nst         gap  \\\n",
       "count  325.000000  325.000000  325.000000  325.000000  132.000000  253.000000   \n",
       "mean    37.872797 -122.233251    7.608185    1.927077   25.045455   81.954545   \n",
       "std      0.035196    0.042846    2.395682    1.019863   26.172902   44.787405   \n",
       "min     37.780000 -122.325000    0.000000    0.000000    3.000000   14.400000   \n",
       "25%     37.856000 -122.251800    6.000000    0.900000    7.000000   50.400000   \n",
       "50%     37.877000 -122.232000    7.700000    2.000000   14.000000   68.400000   \n",
       "75%     37.894000 -122.214667    9.100000    2.700000   33.250000  111.600000   \n",
       "max     37.936800 -122.081000   16.200000    4.800000  120.000000  294.000000   \n",
       "\n",
       "             dmin         rms  \n",
       "count  169.000000  171.000000  \n",
       "mean     0.014857    0.091813  \n",
       "std      0.013212    0.079430  \n",
       "min      0.000000    0.020000  \n",
       "25%      0.008983    0.060000  \n",
       "50%      0.008983    0.080000  \n",
       "75%      0.026949    0.110000  \n",
       "max      0.062882    0.800000  "
      ]
     },
     "execution_count": 6,
     "metadata": {},
     "output_type": "execute_result"
    }
   ],
   "source": [
    "# basic stats for the numerical columns\n",
    "EQ.describe()"
   ]
  },
  {
   "cell_type": "code",
   "execution_count": 7,
   "metadata": {},
   "outputs": [
    {
     "data": {
      "text/plain": [
       "array([[<matplotlib.axes._subplots.AxesSubplot object at 0x117f502d0>,\n",
       "        <matplotlib.axes._subplots.AxesSubplot object at 0x117b2cb10>,\n",
       "        <matplotlib.axes._subplots.AxesSubplot object at 0x11842c590>],\n",
       "       [<matplotlib.axes._subplots.AxesSubplot object at 0x118460d90>,\n",
       "        <matplotlib.axes._subplots.AxesSubplot object at 0x1184a25d0>,\n",
       "        <matplotlib.axes._subplots.AxesSubplot object at 0x1184d4dd0>],\n",
       "       [<matplotlib.axes._subplots.AxesSubplot object at 0x118515610>,\n",
       "        <matplotlib.axes._subplots.AxesSubplot object at 0x118548e10>,\n",
       "        <matplotlib.axes._subplots.AxesSubplot object at 0x118551990>]],\n",
       "      dtype=object)"
      ]
     },
     "execution_count": 7,
     "metadata": {},
     "output_type": "execute_result"
    }
   ],
   "source": [
    "# quick plot histograms for the numerical columns\n",
    "EQ.hist()"
   ]
  },
  {
   "cell_type": "markdown",
   "metadata": {},
   "source": [
    "Doesn't look great... what can we do to make this look nicer?\n",
    "\n",
    "* `Shift + Tab + Tab`: show docstring\n",
    "* Google, stackoverflow...\n",
    "\n",
    "![reddit 1](image1.jpg)\n",
    "\n",
    "![reddit 2](image2.jpg)"
   ]
  },
  {
   "cell_type": "code",
   "execution_count": 8,
   "metadata": {},
   "outputs": [
    {
     "data": {
      "text/plain": [
       "array([[<matplotlib.axes._subplots.AxesSubplot object at 0x117b2c4d0>,\n",
       "        <matplotlib.axes._subplots.AxesSubplot object at 0x11876f610>,\n",
       "        <matplotlib.axes._subplots.AxesSubplot object at 0x1187e9d50>],\n",
       "       [<matplotlib.axes._subplots.AxesSubplot object at 0x118822a10>,\n",
       "        <matplotlib.axes._subplots.AxesSubplot object at 0x118860d90>,\n",
       "        <matplotlib.axes._subplots.AxesSubplot object at 0x118896a50>],\n",
       "       [<matplotlib.axes._subplots.AxesSubplot object at 0x1188caf90>,\n",
       "        <matplotlib.axes._subplots.AxesSubplot object at 0x11890a7d0>,\n",
       "        <matplotlib.axes._subplots.AxesSubplot object at 0x118914350>]],\n",
       "      dtype=object)"
      ]
     },
     "execution_count": 8,
     "metadata": {},
     "output_type": "execute_result"
    },
    {
     "data": {
      "image/png": "[encoded data removed]",
      "text/plain": [
       "<Figure size 1080x720 with 9 Axes>"
      ]
     },
     "metadata": {
      "needs_background": "light"
     },
     "output_type": "display_data"
    }
   ],
   "source": [
    "EQ.hist(figsize=(15,10))"
   ]
  },
  {
   "cell_type": "markdown",
   "metadata": {},
   "source": [
    "### Plotting"
   ]
  },
  {
   "cell_type": "code",
   "execution_count": 9,
   "metadata": {},
   "outputs": [],
   "source": [
    "# import the module/package that we need\n",
    "import matplotlib.pyplot as plt"
   ]
  },
  {
   "cell_type": "markdown",
   "metadata": {},
   "source": [
    "The quick and dirty way:"
   ]
  },
  {
   "cell_type": "code",
   "execution_count": 10,
   "metadata": {},
   "outputs": [
    {
     "data": {
      "image/png": "[encoded data removed]",
      "text/plain": [
       "<Figure size 432x288 with 1 Axes>"
      ]
     },
     "metadata": {
      "needs_background": "light"
     },
     "output_type": "display_data"
    }
   ],
   "source": [
    "# make the histogram\n",
    "plt.hist(EQ['depth'])\n",
    "\n",
    "# set the x and y labels\n",
    "plt.xlabel('depth (km)')\n",
    "plt.ylabel('n')\n",
    "\n",
    "# show it\n",
    "plt.show()"
   ]
  },
  {
   "cell_type": "markdown",
   "metadata": {},
   "source": [
    "A far, far, far, superior way for the more intelligent among you:"
   ]
  },
  {
   "cell_type": "code",
   "execution_count": 11,
   "metadata": {},
   "outputs": [
    {
     "data": {
      "image/png": "[encoded data removed]",
      "text/plain": [
       "<Figure size 432x288 with 1 Axes>"
      ]
     },
     "metadata": {
      "needs_background": "light"
     },
     "output_type": "display_data"
    }
   ],
   "source": [
    "# set up the figure and axis handles\n",
    "fig, ax = plt.subplots()\n",
    "\n",
    "# make the histogram on the axis\n",
    "ax.hist(EQ['depth'])\n",
    "\n",
    "# x and y labels\n",
    "ax.set_xlabel('depth (km)')\n",
    "ax.set_ylabel('n')\n",
    "\n",
    "# show it\n",
    "plt.show(fig)"
   ]
  },
  {
   "cell_type": "markdown",
   "metadata": {},
   "source": [
    "* more control\n",
    "* less ambiguity\n",
    "* more reproducible\n",
    "* not (less) sensitive to the order that you type things"
   ]
  },
  {
   "cell_type": "code",
   "execution_count": 12,
   "metadata": {},
   "outputs": [
    {
     "data": {
      "image/png": "[encoded data removed]",
      "text/plain": [
       "<Figure size 432x288 with 1 Axes>"
      ]
     },
     "metadata": {
      "needs_background": "light"
     },
     "output_type": "display_data"
    }
   ],
   "source": [
    "# set up the figure and axis handles\n",
    "fig, ax = plt.subplots()\n",
    "\n",
    "# make the histogram on the axis\n",
    "ax.scatter(EQ['depth'], EQ['mag'])\n",
    "\n",
    "# x and y labels\n",
    "ax.set_xlabel('depth (km)')\n",
    "ax.set_ylabel('magnitude')\n",
    "\n",
    "# show it\n",
    "plt.show(fig)"
   ]
  },
  {
   "cell_type": "markdown",
   "metadata": {},
   "source": [
    "An example of getting a little fancy:"
   ]
  },
  {
   "cell_type": "code",
   "execution_count": 13,
   "metadata": {},
   "outputs": [
    {
     "data": {
      "image/png": "[encoded data removed]",
      "text/plain": [
       "<Figure size 1080x360 with 3 Axes>"
      ]
     },
     "metadata": {
      "needs_background": "light"
     },
     "output_type": "display_data"
    }
   ],
   "source": [
    "# set up the figure and axis handles\n",
    "fig, ax = plt.subplots(nrows=1, ncols=3, figsize=(15,5))\n",
    "\n",
    "# make the basic plots\n",
    "ax[0].hist(EQ['longitude'], color='C0')\n",
    "ax[1].hist(EQ['latitude'], color='C1')\n",
    "ax[2].scatter(EQ['longitude'], EQ['latitude'], c='C2')\n",
    "\n",
    "# make the y-axis the same for the two histograms\n",
    "hist_ylim_max = 120\n",
    "ax[0].set_ylim(0, hist_ylim_max)\n",
    "ax[1].set_ylim(0, hist_ylim_max)\n",
    "\n",
    "# set axis labels\n",
    "ax[0].set_xlabel('longitude')\n",
    "ax[1].set_xlabel('latitude')\n",
    "ax[2].set_xlabel('longitude')\n",
    "\n",
    "# rotate x tick labels\n",
    "for i in range(len(ax)):\n",
    "    plt.setp(ax[i].get_xticklabels(), rotation=45)\n",
    "    \n",
    "# move the yaxis labels to the right for the scatter plot\n",
    "ax[2].yaxis.tick_right()\n",
    "ax[2].yaxis.set_label_position('right')\n",
    "ax[2].set_ylabel('latitude', rotation=270, labelpad=20)\n",
    "\n",
    "# label them\n",
    "panel_labels = ['A', 'B', 'C']\n",
    "for i in range(len(ax)):\n",
    "    ax[i].text(0.95, 0.95, panel_labels[i],\n",
    "               horizontalalignment='center', verticalalignment='center', transform=ax[i].transAxes)\n",
    "\n",
    "plt.show(fig)"
   ]
  },
  {
   "cell_type": "markdown",
   "metadata": {},
   "source": [
    "Isn't that a map?"
   ]
  },
  {
   "cell_type": "code",
   "execution_count": null,
   "metadata": {},
   "outputs": [],
   "source": []
  }
 ],
 "metadata": {
  "kernelspec": {
   "display_name": "Python 3",
   "language": "python",
   "name": "python3"
  },
  "language_info": {
   "codemirror_mode": {
    "name": "ipython",
    "version": 3
   },
   "file_extension": ".py",
   "mimetype": "text/x-python",
   "name": "python",
   "nbconvert_exporter": "python",
   "pygments_lexer": "ipython3",
   "version": "3.7.4"
  },
  "toc": {
   "base_numbering": 1,
   "nav_menu": {},
   "number_sections": false,
   "sideBar": true,
   "skip_h1_title": false,
   "title_cell": "Table of Contents",
   "title_sidebar": "Contents",
   "toc_cell": false,
   "toc_position": {},
   "toc_section_display": true,
   "toc_window_display": false
  }
 },
 "nbformat": 4,
 "nbformat_minor": 2
}
